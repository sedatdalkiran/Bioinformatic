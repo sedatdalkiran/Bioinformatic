{
 "cells": [
  {
   "cell_type": "code",
   "execution_count": 6,
   "metadata": {},
   "outputs": [],
   "source": [
    "import collections\n",
    "import math"
   ]
  },
  {
   "cell_type": "code",
   "execution_count": 7,
   "metadata": {},
   "outputs": [],
   "source": [
    "def entropy(sequence): \n",
    "    m = len(sequence) \n",
    "    bases = collections.Counter([tmp_base for tmp_base in sequence]) \n",
    "    entropy_value = 0 \n",
    "    for base in bases: \n",
    "        n_i = bases[base] \n",
    "        \n",
    "        p_i = n_i / float(m) \n",
    "        entropy_i = p_i * (math.log(p_i, 2)) \n",
    "        entropy_value += entropy_i \n",
    "    return entropy_value * -1 "
   ]
  },
  {
   "cell_type": "code",
   "execution_count": 8,
   "metadata": {},
   "outputs": [
    {
     "name": "stdout",
     "output_type": "stream",
     "text": [
      "A-TTG-CTT Entropi:  2.058813890331201\n",
      "ACCTGGC-T Entropi:  2.197159723424149\n",
      "ACTA-GCTA Entropi:  2.197159723424149\n",
      "AGTAGCATT Entropi:  1.8910611120726526\n"
     ]
    }
   ],
   "source": [
    "print(\"A-TTG-CTT Entropi: \",entropy(\"A-TTG-CTT\"))\n",
    "print(\"ACCTGGC-T Entropi: \",entropy(\"ACCTGGC-T\"))\n",
    "print(\"ACTA-GCTA Entropi: \",entropy(\"ACTA-GCTA\"))\n",
    "print(\"AGTAGCATT Entropi: \",entropy(\"AGTAGCATT\"))\n"
   ]
  },
  {
   "cell_type": "code",
   "execution_count": null,
   "metadata": {},
   "outputs": [],
   "source": []
  },
  {
   "cell_type": "code",
   "execution_count": null,
   "metadata": {},
   "outputs": [],
   "source": []
  }
 ],
 "metadata": {
  "kernelspec": {
   "display_name": "Python 3",
   "language": "python",
   "name": "python3"
  },
  "language_info": {
   "codemirror_mode": {
    "name": "ipython",
    "version": 3
   },
   "file_extension": ".py",
   "mimetype": "text/x-python",
   "name": "python",
   "nbconvert_exporter": "python",
   "pygments_lexer": "ipython3",
   "version": "3.7.6"
  }
 },
 "nbformat": 4,
 "nbformat_minor": 4
}
