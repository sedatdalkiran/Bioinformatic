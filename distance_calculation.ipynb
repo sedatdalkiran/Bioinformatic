{
 "cells": [
  {
   "cell_type": "code",
   "execution_count": 8,
   "metadata": {},
   "outputs": [],
   "source": [
    "import math\n",
    "import collections"
   ]
  },
  {
   "cell_type": "code",
   "execution_count": 9,
   "metadata": {},
   "outputs": [],
   "source": [
    "def distance(a, b): \n",
    "    if a == b: \n",
    "        return 0 \n",
    "    elif a == \"-\" or b == \"-\": \n",
    "        return 1 \n",
    "    else: \n",
    "        return 2 "
   ]
  },
  {
   "cell_type": "code",
   "execution_count": 10,
   "metadata": {},
   "outputs": [],
   "source": [
    "def w_sum(a, b, w=1):\n",
    "    if a == b:\n",
    "        return 3 * w \n",
    "    elif a == \"-\" or b == \"-\":\n",
    "        return -1 * w \n",
    "    else:\n",
    "        return 2 * w "
   ]
  },
  {
   "cell_type": "code",
   "execution_count": 11,
   "metadata": {},
   "outputs": [
    {
     "data": {
      "text/plain": [
       "True"
      ]
     },
     "execution_count": 11,
     "metadata": {},
     "output_type": "execute_result"
    }
   ],
   "source": [
    "seq1 = 'A-TTG-CTT'\n",
    "seq2 = 'ACCTGGC-T'\n",
    "seq3 = 'ACTA-GCTA'\n",
    "seq4 = 'AGTAGCATT'\n",
    "list(zip(seq1, seq2, seq3, seq4)) == [('A', 'A', 'A', 'A'), \n",
    "                                      ('-', 'C', 'C', 'G'), \n",
    "                                      ('T', 'C', 'T', 'T'), \n",
    "                                      ('T', 'T', 'A', 'A'), \n",
    "                                      ('G', 'G', '-', 'G'),\n",
    "                                      ('-', 'G', 'G', 'C'),\n",
    "                                      ('C', 'C', 'C', 'A'),\n",
    "                                      ('T', '-', 'T', 'T'),\n",
    "                                      ('T', 'T', 'A', 'T')]"
   ]
  },
  {
   "cell_type": "code",
   "execution_count": 12,
   "metadata": {},
   "outputs": [
    {
     "data": {
      "text/plain": [
       "True"
      ]
     },
     "execution_count": 12,
     "metadata": {},
     "output_type": "execute_result"
    }
   ],
   "source": [
    "from itertools import combinations\n",
    "list(combinations(('-', 'C', 'C', 'G'), 2)) == [('-', 'C'), \n",
    "                                                ('-', 'C'), \n",
    "                                                ('-', 'G'),\n",
    "                                                ('C', 'C'),\n",
    "                                                ('C', 'G'),\n",
    "                                                ('C', 'G')]\n",
    "                                               "
   ]
  },
  {
   "cell_type": "code",
   "execution_count": 13,
   "metadata": {},
   "outputs": [
    {
     "name": "stdout",
     "output_type": "stream",
     "text": [
      "Sums of Pair Score:  97\n",
      "Consensus Score:  46\n"
     ]
    }
   ],
   "source": [
    "consensus = 0 \n",
    "sop = 0 \n",
    "for position in zip(seq1, seq2, seq3, seq4): \n",
    "    for pair in combinations(position, 2): \n",
    "        consensus+= distance(*pair) \n",
    "        sop += w_sum(*pair) \n",
    "print(\"Sums of Pair Score: \",sop)\n",
    "print(\"Consensus Score: \",consensus)"
   ]
  },
  {
   "cell_type": "code",
   "execution_count": null,
   "metadata": {},
   "outputs": [],
   "source": []
  },
  {
   "cell_type": "code",
   "execution_count": null,
   "metadata": {},
   "outputs": [],
   "source": []
  }
 ],
 "metadata": {
  "kernelspec": {
   "display_name": "Python 3",
   "language": "python",
   "name": "python3"
  },
  "language_info": {
   "codemirror_mode": {
    "name": "ipython",
    "version": 3
   },
   "file_extension": ".py",
   "mimetype": "text/x-python",
   "name": "python",
   "nbconvert_exporter": "python",
   "pygments_lexer": "ipython3",
   "version": "3.7.6"
  }
 },
 "nbformat": 4,
 "nbformat_minor": 4
}
